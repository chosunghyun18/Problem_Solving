{
 "cells": [
  {
   "cell_type": "code",
   "execution_count": 2,
   "id": "a4d49f0d",
   "metadata": {
    "ExecuteTime": {
     "end_time": "2021-10-24T05:35:08.103225Z",
     "start_time": "2021-10-24T05:35:08.072392Z"
    }
   },
   "outputs": [
    {
     "name": "stdout",
     "output_type": "stream",
     "text": [
      "\n",
      "Quick sort:\n",
      "time = 1.5424999999957834e-05\n",
      "  comparisoon =         26,swaps=          9\n",
      "\n",
      "Merge sort:\n",
      "time = 3.393699999953981e-05\n",
      "  comparisoon =         21,swaps=         68\n",
      "\n",
      "Heap sort:\n",
      "time = 2.3161999999743443e-05\n",
      "  comparisoon =         40,swaps=         40\n",
      "\n"
     ]
    }
   ],
   "source": [
    "import random,timeit\n",
    "\n",
    "## qs\n",
    "def quick_sort(A,first,last):\n",
    "    if first >= last : return A[last]\n",
    "    global Qc, Qs\n",
    "    left,right = first+1 , last\n",
    "    p = A[first]\n",
    "    while left <= right:\n",
    "        while left <= last and A[left] <p :\n",
    "            left+=1\n",
    "            Qc += 1\n",
    "        while right > first and A[right] > p :\n",
    "            right -= 1\n",
    "            Qc += 1\n",
    "        if left <= right  : # Swap  A[left ] and A[right]\n",
    "            A[left]  , A[right] = A[right]  , A[left]\n",
    "            left += 1\n",
    "            right -=1\n",
    "            Qs += 1\n",
    "\n",
    "        # palce pivaot at the right place\n",
    "    A[first] , A[right] = A[right], A[first]\n",
    "    Qs+=1\n",
    "    quick_sort(A,first,right-1)\n",
    "    quick_sort(A,left,last)\n",
    "    #quick_sort(A,right+1, last)    # same index number which is havit\n",
    "\n",
    "\n",
    "#insertion_sort\n",
    "def insertion_sort(A,n):\n",
    "    for i in range(1,n) :\n",
    "        j =i-1\n",
    "        while j >= 0 and A[j] > A[j+1] :\n",
    "            A[j], A[j+1] =A[j+1] ,A[j]\n",
    "            j = j-1\n",
    "    return A\n",
    "#quick sort with undercondition of insertion function\n",
    "def i_quick_sort(A,first,last,k):\n",
    "    if first >= last :\n",
    "        return A[last]\n",
    "\n",
    "    if last - first <= k:\n",
    "        A[first:last + 1] = insertion_sort(A[first:last + 1], len(A[first:last + 1]))\n",
    "    else:\n",
    "        left,right = first+1 , last\n",
    "        p = A[first]\n",
    "        while left <= right:\n",
    "            while left <= last and A[left] <p :\n",
    "                left+=1\n",
    "            while right > first and A[right] > p :\n",
    "                right -= 1\n",
    "            if left <= right  : # Swap  A[left ] and A[right]\n",
    "                A[left]  , A[right] = A[right]  , A[left]\n",
    "                left += 1\n",
    "                right -=1\n",
    "            # palce pivaot at the right place\n",
    "        A[first] , A[right] = A[right], A[first]\n",
    "        i_quick_sort(A,first,right-1,k)\n",
    "        i_quick_sort(A,left,last,k)\n",
    "\n",
    "\n",
    "## ms\n",
    "def merge_sort(A,first,last):\n",
    "    if first >= last : return\n",
    "    merge_sort(A,first,(first+last)//2)\n",
    "    merge_sort(A,((first+last)//2)+1,last)\n",
    "    merge_two_sorted_lists(A,first,last)\n",
    "\n",
    "def merge_two_sorted_lists(A,first,last):\n",
    "    global Mc,Ms\n",
    "    m = (first+ last) // 2\n",
    "    i,j = first , m+1\n",
    "    B = []\n",
    "    while i <= m and j<=last :\n",
    "        if A[i] <= A[j]:\n",
    "            B.append(A[i])\n",
    "            i+=1\n",
    "        else :\n",
    "            B.append(A[j])\n",
    "            j+=1\n",
    "        Mc += 1 #  비교\n",
    "\n",
    "\n",
    "    for  k in range(i,m+1):\n",
    "        B.append(A[k])\n",
    "    for  k in range(j,last+1):\n",
    "        B.append(A[k])\n",
    "    for i in range(first,last+1):\n",
    "        A[i] = B[i-first]\n",
    "\n",
    "    Ms += ( (last+1) - first)*2   # 이동 a -> b -> a\n",
    "\n",
    "#merge sort with undercondition of insertion function\n",
    "def i_merge_sort(A,first,last,k):\n",
    "    if first >= last : return\n",
    "    # unde condtion k<40\n",
    "    if last - first <= k:\n",
    "        A[first:last+1] = insertion_sort(A[first:last+1],len(A[first:last+1]))\n",
    "    else:\n",
    "    # 분할\n",
    "        i_merge_sort(A,first,(first+last)//2,k)\n",
    "        i_merge_sort(A,((first+last)//2)+1,last,k)\n",
    "\n",
    "        # 병\n",
    "        i_merge_two_sorted_lists(A,first,last)\n",
    "\n",
    "def i_merge_two_sorted_lists(A,first,last):\n",
    "    m = (first+ last) // 2\n",
    "    i,j = first , m+1\n",
    "    B = []\n",
    "    while i <= m and j<=last :\n",
    "        if A[i] <= A[j]:\n",
    "            B.append(A[i])\n",
    "            i+=1\n",
    "        else :\n",
    "            B.append(A[j])\n",
    "            j+=1\n",
    "    for  k in range(i,m+1):\n",
    "        B.append(A[k])\n",
    "    for  k in range(j,last+1):\n",
    "        B.append(A[k])\n",
    "    for i in range(first,last+1):\n",
    "        A[i] = B[i-first]\n",
    "\n",
    "## hs\n",
    "def heap_sort(C):\n",
    "    global Hs, Hc\n",
    "    n = len(C)\n",
    "\n",
    "    for k in range(n // 2, -1, -1):\n",
    "        heapify_down(C, k, n)\n",
    "    for k in range(len(C)-1,-1,-1):\n",
    "        C[0] , C[k] = C[k] ,C[0]\n",
    "        Hs += 1\n",
    "        n = n-1\n",
    "        heapify_down(C,0,n)\n",
    "\n",
    "def heapify_down(C, k, n):\n",
    "    global Hs, Hc\n",
    "    while 2 * k + 1 < n:\n",
    "        L, R = 2 * k + 1, 2 * k + 2\n",
    "        Hc +=2 # move\n",
    "        if L < n and C[L] > C[k]:\n",
    "            m = L\n",
    "        else:\n",
    "            m = k\n",
    "\n",
    "        if R < n and C[R] > C[m]:\n",
    "            m = R\n",
    "\n",
    "        if m != k:\n",
    "            C[k], C[m] = C[m], C[k]\n",
    "            Hs+= 2 # swap\n",
    "            k = m\n",
    "\n",
    "        else:\n",
    "            break\n",
    "\n",
    "\n",
    "#### 하단부 코드 동일\n",
    "\n",
    "def check_sorted(A):\n",
    "    for i in range(n-1):\n",
    "        if A[i] > A[i+1]:return False\n",
    "    return True\n",
    "\n",
    "\n",
    "\n",
    "#Global 변수로 선언\n",
    "#Qc : 리스트의 두수를 비교한 횟수 저장\n",
    "#Qs: 두수를 교환한 횟수 저장\n",
    "#mc,msn는 merge sort 에서 비교, 교환(또는 이동 ) 횟수 저장\n",
    "\n",
    "# this kind of valriable will be using for global variable\n",
    "# Hc, Hs는 heap sort에서 비교, 교환(또는 이동) 횟수 저장\n",
    "Qc,Qs = 0,0\n",
    "Mc,Ms = 0,0\n",
    "Hc,Hs = 0,0\n",
    "\n",
    "n = 10\n",
    "#n = int(input())\n",
    "random.seed()\n",
    "A = []\n",
    "for i in range(n) :\n",
    "    A.append(random.randint(-1000,1000))\n",
    "B = A[:]\n",
    "C = A[:]\n",
    "\n",
    "\n",
    "print(\"\")\n",
    "print(\"Quick sort:\")\n",
    "print(\"time =\",timeit.timeit(\"quick_sort(A,0,n-1)\",globals=globals(),number=1))\n",
    "print(\"  comparisoon = {:10d},swaps= {:10d}\\n\".format(Qc,Qs))\n",
    "\n",
    "\n",
    "print(\"Merge sort:\")\n",
    "print(\"time =\",timeit.timeit(\"merge_sort(B,0,n-1)\",globals=globals(),number=1))\n",
    "print(\"  comparisoon = {:10d},swaps= {:10d}\\n\".format(Mc,Ms))\n",
    "\n",
    "\n",
    "print(\"Heap sort:\")\n",
    "print(\"time =\",timeit.timeit(\"heap_sort(C)\",globals=globals(),number=1))\n",
    "print(\"  comparisoon = {:10d},swaps= {:10d}\\n\".format(Hc,Hs))\n",
    "\n",
    "\n",
    "#  진짜 정렬되었는지 check 한다. 정렬이 되지 않았더며 fail\n",
    "# check  sorted if there an error ?\n",
    "assert(check_sorted(A))\n",
    "assert(check_sorted(B))\n",
    "assert(check_sorted(C))"
   ]
  },
  {
   "cell_type": "code",
   "execution_count": 3,
   "id": "5b7f1479",
   "metadata": {
    "ExecuteTime": {
     "end_time": "2021-10-24T05:35:12.922048Z",
     "start_time": "2021-10-24T05:35:12.718007Z"
    }
   },
   "outputs": [],
   "source": [
    "from matplotlib import pyplot as plt"
   ]
  },
  {
   "cell_type": "code",
   "execution_count": 4,
   "id": "a0d69f8f",
   "metadata": {
    "ExecuteTime": {
     "end_time": "2021-10-24T05:36:06.265536Z",
     "start_time": "2021-10-24T05:35:14.532316Z"
    }
   },
   "outputs": [
    {
     "name": "stdout",
     "output_type": "stream",
     "text": [
      "[12, 11, 38, 10, 12, 12, 18, 39]\n"
     ]
    }
   ],
   "source": [
    "# minmun time of mean k in insertion_sort at each size of n\n",
    "n = [100,500,1000,2000,3000,5000,100000,500000]\n",
    "finalk = [0,0,0,0,0,0,0,0]\n",
    "for _ in range(1):\n",
    "    i_qtime = []\n",
    "    for x in range(len(n)) :\n",
    "        timetmp = []\n",
    "        A = []\n",
    "        for i in range(n[x]) :\n",
    "            A.append(random.randint(-1000,1000))\n",
    "        # 같은  A 에서 계산 특정 n  고정후 k 10~ 40  까지 계산\n",
    "        for k in range(10,40+1):\n",
    "            B =A[:] \n",
    "            iq_tmptime =timeit.timeit(\"i_quick_sort(B,0,n[x]-1,k)\",globals=globals(),number=1)\n",
    "            timetmp.append(iq_tmptime)\n",
    "        ti=timetmp.index(min(timetmp))\n",
    "        i_qtime.append(ti+10)\n",
    "    timelist=i_qtime\n",
    "    if finalk[0]== 0:\n",
    "        finalk = timelist\n",
    "    else:\n",
    "        for x in range(len(finalk)):\n",
    "            finalk[x] = round((finalk[x]+timelist[x])*(0.5),5)\n",
    "print(finalk)"
   ]
  },
  {
   "cell_type": "code",
   "execution_count": 141,
   "id": "8aa7a9fb",
   "metadata": {
    "ExecuteTime": {
     "end_time": "2021-10-24T07:26:47.599799Z",
     "start_time": "2021-10-24T07:26:47.460738Z"
    }
   },
   "outputs": [
    {
     "name": "stdout",
     "output_type": "stream",
     "text": [
      "0.6820838708306602\n"
     ]
    },
    {
     "data": {
      "image/png": "[encoded data removed]",
      "text/plain": [
       "<Figure size 432x288 with 1 Axes>"
      ]
     },
     "metadata": {
      "needs_background": "light"
     },
     "output_type": "display_data"
    }
   ],
   "source": [
    "# under size of n =100 graph of insertion sort time from  k (10,40)\n",
    "\n",
    "from matplotlib import pyplot as plt\n",
    "import numpy as np\n",
    "n = 100\n",
    "tmp_times = []\n",
    "random.seed()\n",
    "B= [random.randint(-1000, 1000) for i in range(n)]\n",
    "for k in range(10,41):\n",
    "    a = B[:]\n",
    "    time1 = 10000*timeit.timeit(\"i_quick_sort(A, 0, n-1, k)\", globals=globals(), number=1)\n",
    "    tmp_times.append(time1)\n",
    "print(np.mean(tmp_times))\n",
    "\n",
    "plt.plot(list(range(10,41)) , tmp_times)\n",
    "plt.xlabel(\"K\")\n",
    "plt.ylabel(\"Times\")\n",
    "plt.title(\"if n =100, insertion_sort time graph with variable  K\")\n",
    "plt.show()"
   ]
  },
  {
   "cell_type": "code",
   "execution_count": null,
   "id": "ad28aa04",
   "metadata": {},
   "outputs": [],
   "source": []
  },
  {
   "cell_type": "code",
   "execution_count": 134,
   "id": "66858888",
   "metadata": {
    "ExecuteTime": {
     "end_time": "2021-10-24T07:18:55.305506Z",
     "start_time": "2021-10-24T07:18:50.963630Z"
    }
   },
   "outputs": [
    {
     "name": "stdout",
     "output_type": "stream",
     "text": [
      "[0.19, 1.17, 2.77, 5.92, 9.03, 13.19, 304.70000000000005, 1803.45]\n",
      "[0.23, 1.3699999999999999, 2.8, 4.24, 6.42, 11.08, 259.99, 1272.71]\n"
     ]
    }
   ],
   "source": [
    "# 비교 insertion quick sort and quick sort\n",
    "n = [100,500,1000,2000,3000,5000,100000,500000]\n",
    "k= [40, 40, 38, 10, 12, 12, 18, 40]\n",
    "\n",
    "qtime = []\n",
    "i_qtime = []\n",
    "for x in range(len(n)) :\n",
    "    A = []\n",
    "    for i in range(n[x]) :\n",
    "        A.append(random.randint(-1000,1000))\n",
    "    B =A[:] \n",
    "    q_tmptime =timeit.timeit(\"quick_sort(A,0,n[x]-1)\",globals=globals(),number=1)\n",
    "    iq_tmptime =timeit.timeit(\"i_quick_sort(B,0,n[x]-1,k[x])\",globals=globals(),number=1)\n",
    "    \n",
    "    \n",
    "    qtime.append(round(q_tmptime,5))\n",
    "    i_qtime.append(round(iq_tmptime,5))\n",
    "\n",
    "# 단위 변환   1ms =. 0.001s\n",
    "for x in range(len(n)) :\n",
    "    qtime[x]=qtime[x] *1000\n",
    "    i_qtime[x]=i_qtime[x] *1000  \n",
    "\n",
    "print(qtime)\n",
    "print(i_qtime)"
   ]
  },
  {
   "cell_type": "code",
   "execution_count": 133,
   "id": "bece6a83",
   "metadata": {
    "ExecuteTime": {
     "end_time": "2021-10-24T07:18:48.268041Z",
     "start_time": "2021-10-24T07:18:48.147787Z"
    }
   },
   "outputs": [
    {
     "data": {
      "image/png": "[encoded data removed]",
      "text/plain": [
       "<Figure size 432x288 with 1 Axes>"
      ]
     },
     "metadata": {
      "needs_background": "light"
     },
     "output_type": "display_data"
    }
   ],
   "source": [
    "\"\"\"\n",
    "n = [100,500,1000,5000]\n",
    "k = [10, 10, 10, 10,]\n",
    "qtime = [0.17, 0.97, 2.07, 13.33]\n",
    "i_qtime = [0.26, 1.34, 2.83, 14.31]\n",
    "\"\"\"\n",
    "for x in range(len(qtime)):\n",
    "    mtime[x]=round(qtime[x] ,1)\n",
    "    i_mtime[x]=round(i_qtime[x] ,1)\n",
    "\n",
    "\n",
    "plt.plot(n ,qtime)\n",
    "plt.plot(n ,i_qtime)\n",
    "plt.xlabel(\"n\")\n",
    "plt.ylabel(\"Times\")\n",
    "plt.title(\"quick sort& inserttion sort ,time scatter\")\n",
    "plt.show()"
   ]
  },
  {
   "cell_type": "code",
   "execution_count": 31,
   "id": "7398e638",
   "metadata": {
    "ExecuteTime": {
     "end_time": "2021-10-24T05:58:54.400742Z",
     "start_time": "2021-10-24T05:53:13.620359Z"
    }
   },
   "outputs": [
    {
     "name": "stdout",
     "output_type": "stream",
     "text": [
      "[19.25, 28.0, 26.0, 18.5, 14.5, 22.5, 15.0, 21.0]\n"
     ]
    }
   ],
   "source": [
    "# minmun time of mean k in merge_sort at each size of n\n",
    "n = [100,500,1000,2000,3000,5000,100000,500000]\n",
    "finalk = [0,0,0,0,0,0,0,0]\n",
    "for _ in range(3):  # 10~ 100 정도 대입\n",
    "    i_mtime = []\n",
    "    for x in range(len(n)) :\n",
    "        timetmp = []\n",
    "        A = []\n",
    "        for i in range(n[x]) :\n",
    "            A.append(random.randint(-1000,1000))\n",
    "        # 같은  A 에서 계산 특정 n  고정후 k 10~ 40  까지 계산\n",
    "        for k in range(10,40+1):\n",
    "            B =A[:] \n",
    "            im_tmptime =timeit.timeit(\"i_merge_sort(B,0,n[x]-1,k)\",globals=globals(),number=1)\n",
    "            timetmp.append(im_tmptime)\n",
    "        ti=timetmp.index(min(timetmp))\n",
    "        i_mtime.append(ti+10)\n",
    "    timelist=i_mtime\n",
    "    if finalk[0]== 0:\n",
    "        finalk = timelist\n",
    "    else:\n",
    "        for x in range(len(finalk)):\n",
    "            finalk[x] = round((finalk[x]+timelist[x])*(0.5),5)\n",
    "print(finalk)"
   ]
  },
  {
   "cell_type": "code",
   "execution_count": 139,
   "id": "c6e1cee9",
   "metadata": {
    "ExecuteTime": {
     "end_time": "2021-10-24T07:21:12.768614Z",
     "start_time": "2021-10-24T07:21:12.321421Z"
    }
   },
   "outputs": [
    {
     "data": {
      "image/png": "[encoded data removed]",
      "text/plain": [
       "<Figure size 432x288 with 1 Axes>"
      ]
     },
     "metadata": {
      "needs_background": "light"
     },
     "output_type": "display_data"
    }
   ],
   "source": [
    "# under size of n =100 graph of time insertion merge sort from  k (10,40)\n",
    "n = 100\n",
    "tmp_times = []\n",
    "random.seed()\n",
    "B = [random.randint(-1000, 1000) for i in range(n)]\n",
    "for k in range(10,41):\n",
    "    B = A[:]\n",
    "    time1 = 10000*timeit.timeit(\"i_merge_sort(A, 0, n-1, k)\", globals=globals(), number=1)\n",
    "    tmp_times.append(time1)\n",
    "\n",
    "plt.plot(list(range(10,41)) , tmp_times)\n",
    "plt.xlabel(\"K\")\n",
    "plt.ylabel(\"Times\")\n",
    "plt.title(\"if n =100,merge_sort time graph with variable  K\")\n",
    "plt.show()"
   ]
  },
  {
   "cell_type": "code",
   "execution_count": 56,
   "id": "fb55e052",
   "metadata": {
    "ExecuteTime": {
     "end_time": "2021-10-24T06:37:33.073205Z",
     "start_time": "2021-10-24T06:37:24.369477Z"
    }
   },
   "outputs": [
    {
     "name": "stdout",
     "output_type": "stream",
     "text": [
      "[0.45, 2.81, 6.0200000000000005, 12.65, 18.9, 24.62, 702.85, 3907.66]\n",
      "[0.23, 1.55, 3.48, 7.53, 9.889999999999999, 15.03, 474.49, 2698.57]\n"
     ]
    }
   ],
   "source": [
    "# comparison  insertion_merge  ,  k was given\n",
    "n = [100,500,1000,2000,3000,5000,100000,500000]\n",
    "# optimized k / 루프를 10 번 이상 돌렸을 때,\n",
    "k = [15,12, 11, 13, 16, 28, 17, 25]\n",
    "mtime = []\n",
    "i_mtime = []\n",
    "for x in range(len(n)):\n",
    "    A = []\n",
    "    for i in range(n[x]):\n",
    "        A.append(random.randint(-1000, 1000))\n",
    "    B = A[:]\n",
    "    m_tmptime = timeit.timeit(\"merge_sort(A,0,n[x]-1)\", globals=globals(), number=1)\n",
    "    im_tmptime = timeit.timeit(\"i_merge_sort(B,0,n[x]-1,k[x])\", globals=globals(), number=1)\n",
    "\n",
    "    mtime.append(round(m_tmptime, 5))\n",
    "    i_mtime.append(round(im_tmptime, 5))\n",
    "# 단위 변환   1ms =. 0.001s\n",
    "for x in range(len(n)):\n",
    "    mtime[x] = mtime[x] * 1000\n",
    "    i_mtime[x] = i_mtime[x] * 1000\n",
    "print(mtime)\n",
    "print(i_mtime)"
   ]
  },
  {
   "cell_type": "code",
   "execution_count": 57,
   "id": "cbdae08a",
   "metadata": {
    "ExecuteTime": {
     "end_time": "2021-10-24T06:37:44.836405Z",
     "start_time": "2021-10-24T06:37:44.615721Z"
    }
   },
   "outputs": [
    {
     "data": {
      "image/png": "[encoded data removed]",
      "text/plain": [
       "<Figure size 432x288 with 1 Axes>"
      ]
     },
     "metadata": {
      "needs_background": "light"
     },
     "output_type": "display_data"
    }
   ],
   "source": [
    "for x in range(len(mtime)):\n",
    "    mtime[x]=round(mtime[x] ,1)\n",
    "    i_mtime[x]=round(i_mtime[x] ,1)\n",
    "\n",
    "\n",
    "plt.plot(n ,mtime)\n",
    "plt.plot(n ,i_mtime)\n",
    "\n",
    "plt.xlabel(\"n\")\n",
    "plt.ylabel(\"Times\")\n",
    "plt.title(\"merge sort& inserttion merge sort ,time scatter\")\n",
    "plt.show()"
   ]
  },
  {
   "cell_type": "code",
   "execution_count": 78,
   "id": "2ff1a634",
   "metadata": {
    "ExecuteTime": {
     "end_time": "2021-10-24T06:53:18.748495Z",
     "start_time": "2021-10-24T06:53:05.689704Z"
    }
   },
   "outputs": [],
   "source": [
    "# quick,merge,heap algo rithm camparison\n",
    "\n",
    "# time\n",
    "Qt,Mt,Ht = 0,0,0\n",
    "# compare and swap\n",
    "Qc,Qs = 0,0\n",
    "Mc,Ms = 0,0\n",
    "Hc,Hs = 0,0\n",
    "\n",
    "Qta=[]\n",
    "Qca=[]\n",
    "Qsa=[]\n",
    "\n",
    "Mta=[]\n",
    "Mca=[]\n",
    "Msa=[]\n",
    "\n",
    "Hta=[]\n",
    "Hca=[]\n",
    "Hsa=[]\n",
    "\n",
    "n =[100, 500, 1000, 5000, 100000, 500000]\n",
    "for x in n:\n",
    "    random.seed()\n",
    "    A = []\n",
    "    for i in range(x) :\n",
    "        A.append(random.randint(-1000,1000))\n",
    "    B = A[:]\n",
    "    C = A[:]\n",
    "    Qta.append(timeit.timeit(\"quick_sort(A,0,x-1)\",globals=globals(),number=1))\n",
    "    Mta.append(timeit.timeit(\"merge_sort(B,0,x-1)\",globals=globals(),number=1))\n",
    "    Hta.append(timeit.timeit(\"heap_sort(C)\",globals=globals(),number=1))\n",
    "    Qca.append(Qc)\n",
    "    Qsa.append(Qs)\n",
    "    Mca.append(Mc)\n",
    "    Msa.append(Ms)\n",
    "    Hca.append(Hc)\n",
    "    Hsa.append(Hs)\n",
    "    Qc,Qs = 0,0\n",
    "    Mc,Ms = 0,0\n",
    "    Hc,Hs = 0,0"
   ]
  },
  {
   "cell_type": "code",
   "execution_count": 83,
   "id": "85f70a5e",
   "metadata": {
    "ExecuteTime": {
     "end_time": "2021-10-24T06:53:59.620505Z",
     "start_time": "2021-10-24T06:53:59.487703Z"
    }
   },
   "outputs": [
    {
     "data": {
      "image/png": "[encoded data removed]",
      "text/plain": [
       "<Figure size 432x288 with 1 Axes>"
      ]
     },
     "metadata": {
      "needs_background": "light"
     },
     "output_type": "display_data"
    }
   ],
   "source": [
    "n =[100, 500, 1000, 5000, 100000, 500000]\n",
    "plt.plot(n ,Qta,\"r\")\n",
    "plt.plot(n ,Mta,\"g\")\n",
    "plt.plot(n ,Hta,\"b\")\n",
    "plt.xlabel(\"n\")\n",
    "plt.ylabel(\"running Time\")\n",
    "plt.title(\"red = quick_sort,green=merge,blue=heap\")\n",
    "plt.show()\n"
   ]
  },
  {
   "cell_type": "code",
   "execution_count": 81,
   "id": "e7b85703",
   "metadata": {
    "ExecuteTime": {
     "end_time": "2021-10-24T06:53:49.726229Z",
     "start_time": "2021-10-24T06:53:49.556379Z"
    }
   },
   "outputs": [
    {
     "data": {
      "image/png": "[encoded data removed]",
      "text/plain": [
       "<Figure size 432x288 with 1 Axes>"
      ]
     },
     "metadata": {
      "needs_background": "light"
     },
     "output_type": "display_data"
    }
   ],
   "source": [
    "plt.plot(n ,Qca,\"r\")\n",
    "plt.plot(n ,Mca,\"g\")\n",
    "plt.plot(n ,Hca,\"b\")\n",
    "plt.xlabel(\"n\")\n",
    "plt.ylabel(\"number of compare\")\n",
    "plt.title(\"red = quick_sort,green=merge,blue=heap\")\n",
    "plt.show()\n"
   ]
  },
  {
   "cell_type": "code",
   "execution_count": 80,
   "id": "d6bc6735",
   "metadata": {
    "ExecuteTime": {
     "end_time": "2021-10-24T06:53:40.223751Z",
     "start_time": "2021-10-24T06:53:40.089035Z"
    }
   },
   "outputs": [
    {
     "data": {
      "image/png": "[encoded data removed]",
      "text/plain": [
       "<Figure size 432x288 with 1 Axes>"
      ]
     },
     "metadata": {
      "needs_background": "light"
     },
     "output_type": "display_data"
    }
   ],
   "source": [
    "plt.plot(n ,Qsa,\"r\")\n",
    "plt.plot(n ,Msa,\"g\")\n",
    "plt.plot(n ,Hsa,\"b\")\n",
    "plt.xlabel(\"n\")\n",
    "plt.ylabel(\"number of swtich\")\n",
    "plt.title(\"red = quick_sort,green=merge,blue=heap\")\n",
    "plt.show()\n",
    "\n"
   ]
  }
 ],
 "metadata": {
  "kernelspec": {
   "display_name": "Python 3",
   "language": "python",
   "name": "python3"
  },
  "toc": {
   "base_numbering": 1,
   "nav_menu": {},
   "number_sections": true,
   "sideBar": true,
   "skip_h1_title": false,
   "title_cell": "Table of Contents",
   "title_sidebar": "Contents",
   "toc_cell": false,
   "toc_position": {},
   "toc_section_display": true,
   "toc_window_display": false
  },
  "varInspector": {
   "cols": {
    "lenName": 16,
    "lenType": 16,
    "lenVar": 40
   },
   "kernels_config": {
    "python": {
     "delete_cmd_postfix": "",
     "delete_cmd_prefix": "del ",
     "library": "var_list.py",
     "varRefreshCmd": "print(var_dic_list())"
    },
    "r": {
     "delete_cmd_postfix": ") ",
     "delete_cmd_prefix": "rm(",
     "library": "var_list.r",
     "varRefreshCmd": "cat(var_dic_list()) "
    }
   },
   "types_to_exclude": [
    "module",
    "function",
    "builtin_function_or_method",
    "instance",
    "_Feature"
   ],
   "window_display": false
  }
 },
 "nbformat": 4,
 "nbformat_minor": 5
}
